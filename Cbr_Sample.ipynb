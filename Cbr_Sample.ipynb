{
 "cells": [
  {
   "cell_type": "markdown",
   "metadata": {},
   "source": [
    "## Canberra lithology Visualization Sample"
   ]
  },
  {
   "cell_type": "code",
   "execution_count": null,
   "metadata": {},
   "outputs": [],
   "source": [
    "import os\n",
    "import sys\n",
    "\n",
    "import numpy as np\n",
    "import pandas as pd\n",
    "import pyvista as pv\n",
    "#from matplotlib.colors import ListedColormap\n",
    "\n",
    "from ela.visual import discrete_classes_colormap\n",
    "from ela.VisualizeDataProcess import VisualizeDataProcess"
   ]
  },
  {
   "cell_type": "code",
   "execution_count": null,
   "metadata": {},
   "outputs": [],
   "source": [
    "example_folder = \"./example_data\"\n",
    "drill_data_path=os.path.join(example_folder,'classified_logs.pkl')\n",
    "dem_data_path=os.path.join(example_folder,'dem_array_data.pkl')"
   ]
  },
  {
   "cell_type": "code",
   "execution_count": null,
   "metadata": {},
   "outputs": [],
   "source": [
    "dp = VisualizeDataProcess()"
   ]
  },
  {
   "cell_type": "code",
   "execution_count": null,
   "metadata": {},
   "outputs": [],
   "source": [
    "drill_data = dp.drill_file_read(drill_data_path)\n",
    "dem_data = dp.dem_file_read(dem_data_path)"
   ]
  },
  {
   "cell_type": "code",
   "execution_count": null,
   "metadata": {},
   "outputs": [],
   "source": [
    "#df = pd.read_pickle(drill_data_path)\n",
    "#dem=pd.read_pickle(dem_data_path)"
   ]
  },
  {
   "cell_type": "code",
   "execution_count": null,
   "metadata": {},
   "outputs": [],
   "source": [
    "lines_dict = dp.drill_data_process(drill_data, 25, min_tube_radius=70)\n",
    "grid = dp.dem_data_process(dem_data, 25)\n",
    "layer = dp.lithology_layer_process(drill_data, dem_data, 'cbr', 25, 10, 16)"
   ]
  },
  {
   "cell_type": "markdown",
   "metadata": {},
   "source": [
    "### Use itk-widgets to visualize"
   ]
  },
  {
   "cell_type": "code",
   "execution_count": null,
   "metadata": {},
   "outputs": [],
   "source": [
    "from itkwidgets import view"
   ]
  },
  {
   "cell_type": "code",
   "execution_count": null,
   "metadata": {},
   "outputs": [],
   "source": [
    "borehole_data=pv.PolyData()\n",
    "for well in lines_dict.keys():\n",
    "    borehole_data.boolean_add(lines_dict.get(well),inplace=True)\n",
    "\n",
    "view(geometries=[borehole_data,grid,layer])"
   ]
  },
  {
   "cell_type": "markdown",
   "metadata": {},
   "source": [
    "### Use panel to visualize"
   ]
  },
  {
   "cell_type": "code",
   "execution_count": null,
   "metadata": {},
   "outputs": [],
   "source": [
    "#set up the style of scalar bar and annotations\n",
    "annotations = {\n",
    "    00.0: 'shale',\n",
    "    01.0: 'clay',\n",
    "    02.0: 'granite',\n",
    "    03.0: 'soil',\n",
    "    04.0: 'sand',\n",
    "    05.0: 'porphyry',\n",
    "    06.0: 'siltstone',\n",
    "    07.0: 'dacite',\n",
    "    08.0: 'rhyodacite',\n",
    "    09.0: 'gravel',\n",
    "    10.0: 'limestone',\n",
    "    11.0: 'sandstone',\n",
    "    12.0: 'slate',\n",
    "    13.0: 'mudstone',\n",
    "    14.0: 'rock',\n",
    "    15.0: 'ignimbrite',\n",
    "    16.0: 'tuff'\n",
    "}"
   ]
  },
  {
   "cell_type": "code",
   "execution_count": null,
   "metadata": {},
   "outputs": [],
   "source": [
    "sargs = dict(\n",
    "    n_labels=len(annotations),\n",
    "    bold=False,\n",
    "    interactive=False,\n",
    "    label_font_size=8,\n",
    "    fmt=\"%.1f\",\n",
    "    font_family=\"arial\",\n",
    "    vertical=True,\n",
    "    position_x=1,\n",
    "    position_y=0.45,\n",
    "    height=0.5,\n",
    ")"
   ]
  },
  {
   "cell_type": "code",
   "execution_count": null,
   "metadata": {},
   "outputs": [],
   "source": [
    "plotter = pv.Plotter()"
   ]
  },
  {
   "cell_type": "code",
   "execution_count": null,
   "metadata": {},
   "outputs": [],
   "source": [
    "plotter.add_mesh(borehole_data,\n",
    "                 scalars=dp.scalar_prop_name,\n",
    "                 scalar_bar_args=sargs,\n",
    "                 annotations=annotations,\n",
    "                 show_edges=False,\n",
    "                 edge_color=\"white\",\n",
    "                 n_colors=len(annotations),\n",
    "                 nan_color=\"black\",\n",
    "                 clim=[0, len(annotations) - 1],\n",
    "                 opacity=1,\n",
    "                 )"
   ]
  },
  {
   "cell_type": "code",
   "execution_count": null,
   "metadata": {},
   "outputs": [],
   "source": [
    "plotter.add_mesh(layer, scalars=\"Lithology\", n_colors=len(annotations), clim=[0, len(annotations) - 1],\n",
    "                 show_scalar_bar=False)"
   ]
  },
  {
   "cell_type": "code",
   "execution_count": null,
   "metadata": {},
   "outputs": [],
   "source": [
    "plotter.add_mesh(grid, opacity=0.9)"
   ]
  },
  {
   "cell_type": "code",
   "execution_count": null,
   "metadata": {},
   "outputs": [],
   "source": [
    "plotter.show_bounds(grid, show_xaxis=True, show_yaxis=True, show_zaxis=False)\n",
    "plotter.show_axes()\n"
   ]
  },
  {
   "cell_type": "code",
   "execution_count": null,
   "metadata": {},
   "outputs": [],
   "source": [
    "plotter.show(title=\"Canberra\",use_panel=True,auto_close=False)"
   ]
  }
 ],
 "metadata": {
  "kernelspec": {
   "display_name": "Python 3",
   "language": "python",
   "name": "python3"
  },
  "language_info": {
   "codemirror_mode": {
    "name": "ipython",
    "version": 3
   },
   "file_extension": ".py",
   "mimetype": "text/x-python",
   "name": "python",
   "nbconvert_exporter": "python",
   "pygments_lexer": "ipython3",
   "version": "3.7.3"
  },
  "pycharm": {
   "stem_cell": {
    "cell_type": "raw",
    "metadata": {
     "collapsed": false
    },
    "source": []
   }
  }
 },
 "nbformat": 4,
 "nbformat_minor": 4
}
